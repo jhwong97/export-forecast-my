{
 "cells": [
  {
   "cell_type": "code",
   "execution_count": 1,
   "id": "e2a41138-eb56-4337-9a13-55c0b9e5b90f",
   "metadata": {
    "tags": []
   },
   "outputs": [],
   "source": [
    "import datetime as dt\n",
    "import requests\n",
    "import random\n",
    "import time\n",
    "import numpy as np\n",
    "import pandas as pd\n",
    "from bs4 import BeautifulSoup"
   ]
  },
  {
   "cell_type": "code",
   "execution_count": 2,
   "id": "122dfddd-256b-4bbe-a0d2-e2745019d1ff",
   "metadata": {
    "tags": []
   },
   "outputs": [],
   "source": [
    "# URL to the data extraction site\n",
    "url = \"https://metsonline.dosm.gov.my/tradev2/product-coderesult\"\n",
    "\n",
    "# Obtain csrf_token from the website\n",
    "csrf_token = 'dG5PZ09oay0nPiIMATBTeTsZHFAgKSJdRQQVKwRYJBQADRckHStGYA=='\n",
    "\n",
    "# Create headers for all posts\n",
    "headers = {\n",
    "\"Content-Type\": \"application/x-www-form-urlencoded; charset=UTF-8\", \n",
    "\"Cookie\": \"_ga_F8QG3XBL63=GS1.1.1679998862.1.1.1679998930.0.0.0; _ga_7Q47WMYPD5=GS1.1.1679998865.1.1.1679998930.0.0.0; _ga_HK905W412V=GS1.1.1679998865.1.1.1679998930.0.0.0; mp_f55a9b6a137ab21675ef8724f7864bde_mixpanel=%7B%22distinct_id%22%3A%20%2218727cb0e099da-0247f50f77e9aa-7a545471-144000-18727cb0e0a31%22%2C%22%24device_id%22%3A%20%2218727cb0e099da-0247f50f77e9aa-7a545471-144000-18727cb0e0a31%22%2C%22%24search_engine%22%3A%20%22google%22%2C%22%24initial_referrer%22%3A%20%22https%3A%2F%2Fwww.google.com%2F%22%2C%22%24initial_referring_domain%22%3A%20%22www.google.com%22%2C%22__timers%22%3A%20%7B%7D%7D; _ga_TF34V4E8EM=GS1.1.1679999831.1.1.1680004133.0.0.0; _ga_XSB7QCQ0M9=GS1.1.1681551362.3.1.1681551368.0.0.0; _ga=GA1.1.324035783.1679998837; PHPSESSID=3oi1at9dfj4ugn6nno2bsqdd60; _csrf=193a3c282709e8f8d32929d94372b30d2cc2a5402306edc5e12c04ca098a1819a%3A2%3A%7Bi%3A0%3Bs%3A5%3A%22_csrf%22%3Bi%3A1%3Bs%3A32%3A%22SPmkNX8TOwS7oAIp1jZLK0O9tcXCRC-M%22%3B%7D; BNES_PHPSESSID=fk0GuBGEQJmmIMfAn9TJ6EK+FW/oxjgTr2AAO+vNTw1JHh1+YzlOkigmNmbMOtjxuyDVXvBqWx9L6ZHOVdyK0Unb9r8ZsuhgKRw0f3zlmA8=; BNES__csrf=T1JRVt/fspwmarDUSua9ANdq7/OTqhlhu8lprfzaWWaQtpaDzljVNyJUL1Y65guWawDI8LDmCHrD6nlIXud7o3ytcCBG5TDvi4Kd94SBmSCx1ED1HWM0YV+ztPXAQ5AhjCkcJExisSE5tRQSObfAv0WAFW/4frqxEg4pTyBtkcJZTi4Amki6jSChfqJAyShFuYOrg/ZKI0IsB8ShUR5UFcxqa3a28w/OAICYVhchalmoAAhmCMY22tozvta3gpBJGC+pONVCkNPozWC+7XVzDC5ZciTE34Uq\"\n",
    "}"
   ]
  },
  {
   "cell_type": "code",
   "execution_count": 3,
   "id": "ede5f4a7-788b-474d-90aa-86d6857c614f",
   "metadata": {
    "tags": []
   },
   "outputs": [
    {
     "name": "stdout",
     "output_type": "stream",
     "text": [
      "[2003, 2007, 2011, 2015, 2019, 2023]\n"
     ]
    }
   ],
   "source": [
    "# To obtain the targeted year with selected interval\n",
    "start_year = 2000\n",
    "current_year = dt.date.today().year\n",
    "interval_year = 4\n",
    "\n",
    "targeted_year = []\n",
    "\n",
    "for year in range(start_year, current_year + 1, interval_year):\n",
    "    if year + interval_year < 2023:\n",
    "        ending_year = year + interval_year - 1\n",
    "        targeted_year.append(ending_year)\n",
    "    else:\n",
    "        ending_year = current_year\n",
    "        targeted_year.append(ending_year)\n",
    "        \n",
    "print(targeted_year)"
   ]
  },
  {
   "cell_type": "code",
   "execution_count": 4,
   "id": "ad75f731-2df8-433d-a53d-f3b0df399095",
   "metadata": {},
   "outputs": [
    {
     "name": "stdout",
     "output_type": "stream",
     "text": [
      "Data Extraction for 2000-2003 is Successful.\n",
      "Data Extraction for 2004-2007 is Successful.\n",
      "Data Extraction for 2008-2011 is Successful.\n",
      "Data Extraction for 2012-2015 is Successful.\n",
      "Data Extraction for 2016-2019 is Successful.\n",
      "Data Extraction for 2020-2023 is Successful.\n",
      "[<Response [200]>, <Response [200]>, <Response [200]>, <Response [200]>, <Response [200]>, <Response [200]>]\n"
     ]
    }
   ],
   "source": [
    "# To start extract data from url via request\n",
    "data_raw = []\n",
    "start = start_year\n",
    "\n",
    "max_retries = 2\n",
    "\n",
    "for year in targeted_year:\n",
    "    payload_month = {\n",
    "    '_csrf': csrf_token,\n",
    "    'Tradev2[typeofsearch]': 'classification',\n",
    "    'Tradev2[typedigit]': 7,\n",
    "    'Tradev2[rangecode1]': 0,\n",
    "    'Tradev2[rangecode2]': 9,\n",
    "    # 'Tradev2[code_idcode]': ,\n",
    "    # 'Tradev2[code_idcodedigit9]': ,\n",
    "    # 'Tradev2[tradeflow]': ,\n",
    "    'Tradev2[tradeflow][]': 'exports',\n",
    "    # 'Tradev2[timeframe]': ,\n",
    "    'Tradev2[timeframe]': 'month',\n",
    "    # 'Tradev2[rangeyear]': ,\n",
    "    # 'Tradev2[rangeyear2]': ,\n",
    "    # 'Tradev2[rangeyearone]': ,\n",
    "    # 'Tradev2[rangemonthone]': ,\n",
    "    'Tradev2[mothdata]': start,\n",
    "    'Tradev2[mothdata2]': year,\n",
    "    # 'Tradev2[classification_serch]': ,\n",
    "    # 'Tradev2[country2]': ,\n",
    "    'Tradev2[geogroup]': 1,\n",
    "    'Tradev2[geogroup]': 29,\n",
    "    'Tradev2[codeshowby]': 'code'\n",
    "    }\n",
    "    \n",
    "    for retry in range(max_retries):\n",
    "        retry_delay = random.randint(10,15)  # seconds\n",
    "        try:\n",
    "            # Process the response here\n",
    "            monthly_raw = requests.post(url, data=payload_month, headers=headers)\n",
    "            data_raw.append(monthly_raw) # Store the extracted raw data into a list\n",
    "            print(f\"Data Extraction for {start}-{year} is Successful.\")\n",
    "            time.sleep(5)\n",
    "            break # Break the retry loop if successful\n",
    "            \n",
    "        except (requests.ConnectionError) as e:\n",
    "            print(f\"Error: {e}. Retrying in {retry_delay} seconds...\")\n",
    "            time.sleep(retry_delay)\n",
    "            \n",
    "        except Exception as e:\n",
    "            print(f\"An error occurred: {e}\")\n",
    "            break  # Stop retrying if a different error occurs\n",
    "    \n",
    "    if year < 2023:\n",
    "        start = year + 1\n",
    "     \n",
    "print(data_raw)"
   ]
  },
  {
   "cell_type": "code",
   "execution_count": 12,
   "id": "94c006c5-5b9e-4453-bc20-8c378d122aa8",
   "metadata": {
    "tags": []
   },
   "outputs": [],
   "source": [
    "# Create an empty list for storing the raw text from data extraction\n",
    "data_extracted = []\n",
    "\n",
    "# To extract only the table value\n",
    "for raw in data_raw:\n",
    "    result = BeautifulSoup(raw.text, 'html.parser') # Parse the HTML\n",
    "    table = result.find('table', class_='table-bordered') # Look up for the table\n",
    "    \n",
    "    # Extract table rows\n",
    "    rows = table.find_all('tr')\n",
    "    for row in rows:\n",
    "        cols = row.find_all(['th', 'td'])\n",
    "        cols = [col.get_text(strip=True) for col in cols]\n",
    "        data_extracted.append(cols)"
   ]
  },
  {
   "cell_type": "code",
   "execution_count": null,
   "id": "a5de32a9-424b-47d7-b124-d62c7f1057aa",
   "metadata": {
    "tags": []
   },
   "outputs": [],
   "source": []
  },
  {
   "cell_type": "code",
   "execution_count": null,
   "id": "ef3b2fa1-a8d7-4785-9f1c-a27e40acf732",
   "metadata": {
    "tags": []
   },
   "outputs": [],
   "source": []
  },
  {
   "cell_type": "code",
   "execution_count": null,
   "id": "04045e0f-3d62-4826-88cf-a45e1b7639d1",
   "metadata": {
    "tags": []
   },
   "outputs": [],
   "source": []
  },
  {
   "cell_type": "code",
   "execution_count": null,
   "id": "e3f47039-69c6-4cca-80b5-a91a2b5cdd26",
   "metadata": {
    "tags": []
   },
   "outputs": [],
   "source": []
  },
  {
   "cell_type": "code",
   "execution_count": null,
   "id": "98093083-4206-49a6-85f2-2f9b8eeb9da3",
   "metadata": {},
   "outputs": [],
   "source": []
  }
 ],
 "metadata": {
  "kernelspec": {
   "display_name": "Python 3 (ipykernel)",
   "language": "python",
   "name": "python3"
  },
  "language_info": {
   "codemirror_mode": {
    "name": "ipython",
    "version": 3
   },
   "file_extension": ".py",
   "mimetype": "text/x-python",
   "name": "python",
   "nbconvert_exporter": "python",
   "pygments_lexer": "ipython3",
   "version": "3.11.3"
  }
 },
 "nbformat": 4,
 "nbformat_minor": 5
}
