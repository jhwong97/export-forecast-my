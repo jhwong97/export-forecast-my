{
 "cells": [
  {
   "cell_type": "code",
   "execution_count": 1,
   "id": "e2a41138-eb56-4337-9a13-55c0b9e5b90f",
   "metadata": {
    "tags": []
   },
   "outputs": [],
   "source": [
    "import datetime as dt\n",
    "import requests\n",
    "from bs4 import BeautifulSoup"
   ]
  },
  {
   "cell_type": "code",
   "execution_count": 2,
   "id": "122dfddd-256b-4bbe-a0d2-e2745019d1ff",
   "metadata": {
    "tags": []
   },
   "outputs": [],
   "source": [
    "# URL to the data extraction site\n",
    "url = \"https://metsonline.dosm.gov.my/tradev2/product-coderesult\"\n",
    "\n",
    "# Obtain csrf_token from the website\n",
    "csrf_token = 'UUZMandDR2UpdX8uQCgABzAnAQswMSEEYih4EAIZFFQ3cjwSRBchDw=='\n",
    "\n",
    "# Create headers for all posts\n",
    "headers = {\n",
    "\"Content-Type\": \"application/x-www-form-urlencoded; charset=UTF-8\", \n",
    "\"Cookie\": \"_ga=GA1.1.1701463660.1689306590; mp_f55a9b6a137ab21675ef8724f7864bde_mixpanel=%7B%22distinct_id%22%3A%20%221895284e7dd9de-0ca9b33bffbf56-7e565470-1fa400-1895284e7de4d4%22%2C%22%24device_id%22%3A%20%221895284e7dd9de-0ca9b33bffbf56-7e565470-1fa400-1895284e7de4d4%22%2C%22%24initial_referrer%22%3A%20%22https%3A%2F%2Fwww.dosm.gov.my%2F%22%2C%22%24initial_referring_domain%22%3A%20%22www.dosm.gov.my%22%2C%22%24search_engine%22%3A%20%22google%22%2C%22__timers%22%3A%20%7B%7D%7D; _ga_TF34V4E8EM=GS1.1.1691399745.5.0.1691399745.0.0.0; _ga_F8QG3XBL63=GS1.1.1692449791.1.1.1692449822.0.0.0; _ga_7Q47WMYPD5=GS1.1.1692449791.1.1.1692449838.0.0.0; _ga_HK905W412V=GS1.1.1692449791.1.1.1692449838.0.0.0; PHPSESSID=sslb5pilmeiof3r4m1vf1h2g87; _csrf=decb6ea0f7bca7afd53b7569284e0ff0e2df9f54f2b01d7177683d0726e4c57ea%3A2%3A%7Bi%3A0%3Bs%3A5%3A%22_csrf%22%3Bi%3A1%3Bs%3A32%3A%22x33D7kGbaaMaGrfa3n4zuZS1f4px3Tfj%22%3B%7D; BNES_PHPSESSID=fN+QQ1xt7vyXI1LE7n1mo/wyD6cGVrbuyv8dQty/NBFXeE5lJ9zsws3WsHywFlsIUl76MH9ghhfCFxCPZyoY7cYFCbIfAQtf7cT+57KaeAY=; BNES__csrf=LPnkRsWdVDtyG7+Rttu6zVujS9WSDdvoeoA6ARm2+dbBGwSK0ux060zDCmXjr2cP2nc/A+g4Y5cZCWeThFypuYirQ6ouailgCAZAjYndfUjXQlofwX4tfxS7D0UOzDqIGUPfkczjIPIUd9SaEGYlnF0Gqx/mfIGk2vOBZRVzttK0ztWnAJRVjkFor+tsWuKkJ4Uerye4P2cSGigJg8sML6kX2B3LlKEpruBxMO6Hp+S1RVDWmsceS8p30UOYul73LzZHGdFMnQYg9zT5aMZaBmQlWkdXnGTR\"\n",
    "}"
   ]
  },
  {
   "cell_type": "code",
   "execution_count": 4,
   "id": "ede5f4a7-788b-474d-90aa-86d6857c614f",
   "metadata": {
    "tags": []
   },
   "outputs": [
    {
     "name": "stdout",
     "output_type": "stream",
     "text": [
      "[2004, 2009, 2014, 2019, 2023]\n"
     ]
    }
   ],
   "source": [
    "# To separate the year into 5-years interval\n",
    "start_year = 2000\n",
    "current_year = dt.date.today().year\n",
    "interval_year = 5\n",
    "\n",
    "targeted_year = []\n",
    "\n",
    "for year in range(start_year, current_year + 1, interval_year):\n",
    "    if year + interval_year < 2023:\n",
    "        ending_year = year + interval_year - 1\n",
    "        targeted_year.append(ending_year)\n",
    "    else:\n",
    "        ending_year = current_year\n",
    "        targeted_year.append(ending_year)\n",
    "        \n",
    "print(targeted_year)"
   ]
  },
  {
   "cell_type": "code",
   "execution_count": null,
   "id": "ad75f731-2df8-433d-a53d-f3b0df399095",
   "metadata": {},
   "outputs": [],
   "source": []
  }
 ],
 "metadata": {
  "kernelspec": {
   "display_name": "Python 3 (ipykernel)",
   "language": "python",
   "name": "python3"
  },
  "language_info": {
   "codemirror_mode": {
    "name": "ipython",
    "version": 3
   },
   "file_extension": ".py",
   "mimetype": "text/x-python",
   "name": "python",
   "nbconvert_exporter": "python",
   "pygments_lexer": "ipython3",
   "version": "3.11.3"
  }
 },
 "nbformat": 4,
 "nbformat_minor": 5
}
